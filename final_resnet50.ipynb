{
  "nbformat": 4,
  "nbformat_minor": 0,
  "metadata": {
    "colab": {
      "name": "Untitled7.ipynb",
      "provenance": []
    },
    "kernelspec": {
      "name": "python3",
      "display_name": "Python 3"
    },
    "accelerator": "GPU"
  },
  "cells": [
    {
      "cell_type": "code",
      "metadata": {
        "id": "blSjT5099lDw",
        "colab_type": "code",
        "colab": {
          "base_uri": "https://localhost:8080/",
          "height": 35
        },
        "outputId": "f6d6b02e-06a5-4892-f5b9-e6ababcdf708"
      },
      "source": [
        "from google.colab import drive\n",
        "drive.mount('/content/drive',force_remount=True)"
      ],
      "execution_count": 71,
      "outputs": [
        {
          "output_type": "stream",
          "text": [
            "Mounted at /content/drive\n"
          ],
          "name": "stdout"
        }
      ]
    },
    {
      "cell_type": "code",
      "metadata": {
        "id": "FgmMQ8mlT7T1",
        "colab_type": "code",
        "colab": {}
      },
      "source": [
        "#!pip install \"torch == 1.4.0\" \"torchvision==0.5.0\""
      ],
      "execution_count": 0,
      "outputs": []
    },
    {
      "cell_type": "code",
      "metadata": {
        "id": "2DH2dD_-9qWu",
        "colab_type": "code",
        "colab": {
          "base_uri": "https://localhost:8080/",
          "height": 108
        },
        "outputId": "1f36af3b-6299-4db4-bc5a-5f491a339304"
      },
      "source": [
        "from pathlib import Path\n",
        "%pylab inline\n",
        "from fastai.vision import *\n",
        "import pandas as pd\n",
        "path =Path('/content/drive/My Drive/all/')\n"
      ],
      "execution_count": 73,
      "outputs": [
        {
          "output_type": "stream",
          "text": [
            "Populating the interactive namespace from numpy and matplotlib\n"
          ],
          "name": "stdout"
        },
        {
          "output_type": "stream",
          "text": [
            "/usr/local/lib/python3.6/dist-packages/IPython/core/magics/pylab.py:161: UserWarning: pylab import has clobbered these variables: ['subplots', 'random', 'copy', '__version__', 'partition', 'pad', 'uniform', 'array']\n",
            "`%matplotlib` prevents importing * from pylab and numpy\n",
            "  \"\\n`%matplotlib` prevents importing * from pylab and numpy\"\n"
          ],
          "name": "stderr"
        }
      ]
    },
    {
      "cell_type": "code",
      "metadata": {
        "id": "CaDdEA0d_ixY",
        "colab_type": "code",
        "colab": {}
      },
      "source": [
        "data = ImageDataBunch.from_folder(path/'train', train='train', valid_pct=0.2, ds_tfms=get_transforms(), size=(256,256), bs=10, num_workers=4).normalize()"
      ],
      "execution_count": 0,
      "outputs": []
    },
    {
      "cell_type": "code",
      "metadata": {
        "id": "z8k2O7HU_5a4",
        "colab_type": "code",
        "colab": {
          "base_uri": "https://localhost:8080/",
          "height": 319
        },
        "outputId": "903b1cdb-ae40-49bc-dca0-670699cca0d1"
      },
      "source": [
        "data"
      ],
      "execution_count": 75,
      "outputs": [
        {
          "output_type": "execute_result",
          "data": {
            "text/plain": [
              "ImageDataBunch;\n",
              "\n",
              "Train: LabelList (160 items)\n",
              "x: ImageList\n",
              "Image (3, 256, 256),Image (3, 256, 256),Image (3, 256, 256),Image (3, 256, 256),Image (3, 256, 256)\n",
              "y: CategoryList\n",
              "normal,normal,normal,normal,normal\n",
              "Path: /content/drive/My Drive/all/train;\n",
              "\n",
              "Valid: LabelList (40 items)\n",
              "x: ImageList\n",
              "Image (3, 256, 256),Image (3, 256, 256),Image (3, 256, 256),Image (3, 256, 256),Image (3, 256, 256)\n",
              "y: CategoryList\n",
              "pneumonia_bac,pneumonia_bac,pneumonia_bac,normal,pneumonia_bac\n",
              "Path: /content/drive/My Drive/all/train;\n",
              "\n",
              "Test: None"
            ]
          },
          "metadata": {
            "tags": []
          },
          "execution_count": 75
        }
      ]
    },
    {
      "cell_type": "code",
      "metadata": {
        "id": "YB4X0iffIRs6",
        "colab_type": "code",
        "colab": {}
      },
      "source": [
        "custom_head = nn.Sequential(\n",
        "    AdaptiveConcatPool2d((4,4)),\n",
        "    Flatten(),\n",
        "    nn.ReLU(),\n",
        "    nn.Dropout(0.5),\n",
        "    nn.Linear(65536,256),\n",
        "    nn.ReLU(),\n",
        "    nn.BatchNorm1d(256),\n",
        "    nn.Dropout(0.5),\n",
        "    nn.Linear(256,8))"
      ],
      "execution_count": 0,
      "outputs": []
    },
    {
      "cell_type": "code",
      "metadata": {
        "id": "x250hXtxIcdp",
        "colab_type": "code",
        "colab": {}
      },
      "source": [
        "learn=cnn_learner(data, models.resnet50, custom_head=custom_head, loss_func=nn.CrossEntropyLoss(), metrics=[accuracy])"
      ],
      "execution_count": 0,
      "outputs": []
    },
    {
      "cell_type": "code",
      "metadata": {
        "id": "jC7f11T4yKkg",
        "colab_type": "code",
        "colab": {
          "base_uri": "https://localhost:8080/",
          "height": 1000
        },
        "outputId": "3b611fed-c572-4378-bca8-ded7a69062b9"
      },
      "source": [
        "learn.summary()"
      ],
      "execution_count": 78,
      "outputs": [
        {
          "output_type": "execute_result",
          "data": {
            "text/plain": [
              "Sequential\n",
              "======================================================================\n",
              "Layer (type)         Output Shape         Param #    Trainable \n",
              "======================================================================\n",
              "Conv2d               [64, 128, 128]       9,408      False     \n",
              "______________________________________________________________________\n",
              "BatchNorm2d          [64, 128, 128]       128        True      \n",
              "______________________________________________________________________\n",
              "ReLU                 [64, 128, 128]       0          False     \n",
              "______________________________________________________________________\n",
              "MaxPool2d            [64, 64, 64]         0          False     \n",
              "______________________________________________________________________\n",
              "Conv2d               [64, 64, 64]         4,096      False     \n",
              "______________________________________________________________________\n",
              "BatchNorm2d          [64, 64, 64]         128        True      \n",
              "______________________________________________________________________\n",
              "Conv2d               [64, 64, 64]         36,864     False     \n",
              "______________________________________________________________________\n",
              "BatchNorm2d          [64, 64, 64]         128        True      \n",
              "______________________________________________________________________\n",
              "Conv2d               [256, 64, 64]        16,384     False     \n",
              "______________________________________________________________________\n",
              "BatchNorm2d          [256, 64, 64]        512        True      \n",
              "______________________________________________________________________\n",
              "ReLU                 [256, 64, 64]        0          False     \n",
              "______________________________________________________________________\n",
              "Conv2d               [256, 64, 64]        16,384     False     \n",
              "______________________________________________________________________\n",
              "BatchNorm2d          [256, 64, 64]        512        True      \n",
              "______________________________________________________________________\n",
              "Conv2d               [64, 64, 64]         16,384     False     \n",
              "______________________________________________________________________\n",
              "BatchNorm2d          [64, 64, 64]         128        True      \n",
              "______________________________________________________________________\n",
              "Conv2d               [64, 64, 64]         36,864     False     \n",
              "______________________________________________________________________\n",
              "BatchNorm2d          [64, 64, 64]         128        True      \n",
              "______________________________________________________________________\n",
              "Conv2d               [256, 64, 64]        16,384     False     \n",
              "______________________________________________________________________\n",
              "BatchNorm2d          [256, 64, 64]        512        True      \n",
              "______________________________________________________________________\n",
              "ReLU                 [256, 64, 64]        0          False     \n",
              "______________________________________________________________________\n",
              "Conv2d               [64, 64, 64]         16,384     False     \n",
              "______________________________________________________________________\n",
              "BatchNorm2d          [64, 64, 64]         128        True      \n",
              "______________________________________________________________________\n",
              "Conv2d               [64, 64, 64]         36,864     False     \n",
              "______________________________________________________________________\n",
              "BatchNorm2d          [64, 64, 64]         128        True      \n",
              "______________________________________________________________________\n",
              "Conv2d               [256, 64, 64]        16,384     False     \n",
              "______________________________________________________________________\n",
              "BatchNorm2d          [256, 64, 64]        512        True      \n",
              "______________________________________________________________________\n",
              "ReLU                 [256, 64, 64]        0          False     \n",
              "______________________________________________________________________\n",
              "Conv2d               [128, 64, 64]        32,768     False     \n",
              "______________________________________________________________________\n",
              "BatchNorm2d          [128, 64, 64]        256        True      \n",
              "______________________________________________________________________\n",
              "Conv2d               [128, 32, 32]        147,456    False     \n",
              "______________________________________________________________________\n",
              "BatchNorm2d          [128, 32, 32]        256        True      \n",
              "______________________________________________________________________\n",
              "Conv2d               [512, 32, 32]        65,536     False     \n",
              "______________________________________________________________________\n",
              "BatchNorm2d          [512, 32, 32]        1,024      True      \n",
              "______________________________________________________________________\n",
              "ReLU                 [512, 32, 32]        0          False     \n",
              "______________________________________________________________________\n",
              "Conv2d               [512, 32, 32]        131,072    False     \n",
              "______________________________________________________________________\n",
              "BatchNorm2d          [512, 32, 32]        1,024      True      \n",
              "______________________________________________________________________\n",
              "Conv2d               [128, 32, 32]        65,536     False     \n",
              "______________________________________________________________________\n",
              "BatchNorm2d          [128, 32, 32]        256        True      \n",
              "______________________________________________________________________\n",
              "Conv2d               [128, 32, 32]        147,456    False     \n",
              "______________________________________________________________________\n",
              "BatchNorm2d          [128, 32, 32]        256        True      \n",
              "______________________________________________________________________\n",
              "Conv2d               [512, 32, 32]        65,536     False     \n",
              "______________________________________________________________________\n",
              "BatchNorm2d          [512, 32, 32]        1,024      True      \n",
              "______________________________________________________________________\n",
              "ReLU                 [512, 32, 32]        0          False     \n",
              "______________________________________________________________________\n",
              "Conv2d               [128, 32, 32]        65,536     False     \n",
              "______________________________________________________________________\n",
              "BatchNorm2d          [128, 32, 32]        256        True      \n",
              "______________________________________________________________________\n",
              "Conv2d               [128, 32, 32]        147,456    False     \n",
              "______________________________________________________________________\n",
              "BatchNorm2d          [128, 32, 32]        256        True      \n",
              "______________________________________________________________________\n",
              "Conv2d               [512, 32, 32]        65,536     False     \n",
              "______________________________________________________________________\n",
              "BatchNorm2d          [512, 32, 32]        1,024      True      \n",
              "______________________________________________________________________\n",
              "ReLU                 [512, 32, 32]        0          False     \n",
              "______________________________________________________________________\n",
              "Conv2d               [128, 32, 32]        65,536     False     \n",
              "______________________________________________________________________\n",
              "BatchNorm2d          [128, 32, 32]        256        True      \n",
              "______________________________________________________________________\n",
              "Conv2d               [128, 32, 32]        147,456    False     \n",
              "______________________________________________________________________\n",
              "BatchNorm2d          [128, 32, 32]        256        True      \n",
              "______________________________________________________________________\n",
              "Conv2d               [512, 32, 32]        65,536     False     \n",
              "______________________________________________________________________\n",
              "BatchNorm2d          [512, 32, 32]        1,024      True      \n",
              "______________________________________________________________________\n",
              "ReLU                 [512, 32, 32]        0          False     \n",
              "______________________________________________________________________\n",
              "Conv2d               [256, 32, 32]        131,072    False     \n",
              "______________________________________________________________________\n",
              "BatchNorm2d          [256, 32, 32]        512        True      \n",
              "______________________________________________________________________\n",
              "Conv2d               [256, 16, 16]        589,824    False     \n",
              "______________________________________________________________________\n",
              "BatchNorm2d          [256, 16, 16]        512        True      \n",
              "______________________________________________________________________\n",
              "Conv2d               [1024, 16, 16]       262,144    False     \n",
              "______________________________________________________________________\n",
              "BatchNorm2d          [1024, 16, 16]       2,048      True      \n",
              "______________________________________________________________________\n",
              "ReLU                 [1024, 16, 16]       0          False     \n",
              "______________________________________________________________________\n",
              "Conv2d               [1024, 16, 16]       524,288    False     \n",
              "______________________________________________________________________\n",
              "BatchNorm2d          [1024, 16, 16]       2,048      True      \n",
              "______________________________________________________________________\n",
              "Conv2d               [256, 16, 16]        262,144    False     \n",
              "______________________________________________________________________\n",
              "BatchNorm2d          [256, 16, 16]        512        True      \n",
              "______________________________________________________________________\n",
              "Conv2d               [256, 16, 16]        589,824    False     \n",
              "______________________________________________________________________\n",
              "BatchNorm2d          [256, 16, 16]        512        True      \n",
              "______________________________________________________________________\n",
              "Conv2d               [1024, 16, 16]       262,144    False     \n",
              "______________________________________________________________________\n",
              "BatchNorm2d          [1024, 16, 16]       2,048      True      \n",
              "______________________________________________________________________\n",
              "ReLU                 [1024, 16, 16]       0          False     \n",
              "______________________________________________________________________\n",
              "Conv2d               [256, 16, 16]        262,144    False     \n",
              "______________________________________________________________________\n",
              "BatchNorm2d          [256, 16, 16]        512        True      \n",
              "______________________________________________________________________\n",
              "Conv2d               [256, 16, 16]        589,824    False     \n",
              "______________________________________________________________________\n",
              "BatchNorm2d          [256, 16, 16]        512        True      \n",
              "______________________________________________________________________\n",
              "Conv2d               [1024, 16, 16]       262,144    False     \n",
              "______________________________________________________________________\n",
              "BatchNorm2d          [1024, 16, 16]       2,048      True      \n",
              "______________________________________________________________________\n",
              "ReLU                 [1024, 16, 16]       0          False     \n",
              "______________________________________________________________________\n",
              "Conv2d               [256, 16, 16]        262,144    False     \n",
              "______________________________________________________________________\n",
              "BatchNorm2d          [256, 16, 16]        512        True      \n",
              "______________________________________________________________________\n",
              "Conv2d               [256, 16, 16]        589,824    False     \n",
              "______________________________________________________________________\n",
              "BatchNorm2d          [256, 16, 16]        512        True      \n",
              "______________________________________________________________________\n",
              "Conv2d               [1024, 16, 16]       262,144    False     \n",
              "______________________________________________________________________\n",
              "BatchNorm2d          [1024, 16, 16]       2,048      True      \n",
              "______________________________________________________________________\n",
              "ReLU                 [1024, 16, 16]       0          False     \n",
              "______________________________________________________________________\n",
              "Conv2d               [256, 16, 16]        262,144    False     \n",
              "______________________________________________________________________\n",
              "BatchNorm2d          [256, 16, 16]        512        True      \n",
              "______________________________________________________________________\n",
              "Conv2d               [256, 16, 16]        589,824    False     \n",
              "______________________________________________________________________\n",
              "BatchNorm2d          [256, 16, 16]        512        True      \n",
              "______________________________________________________________________\n",
              "Conv2d               [1024, 16, 16]       262,144    False     \n",
              "______________________________________________________________________\n",
              "BatchNorm2d          [1024, 16, 16]       2,048      True      \n",
              "______________________________________________________________________\n",
              "ReLU                 [1024, 16, 16]       0          False     \n",
              "______________________________________________________________________\n",
              "Conv2d               [256, 16, 16]        262,144    False     \n",
              "______________________________________________________________________\n",
              "BatchNorm2d          [256, 16, 16]        512        True      \n",
              "______________________________________________________________________\n",
              "Conv2d               [256, 16, 16]        589,824    False     \n",
              "______________________________________________________________________\n",
              "BatchNorm2d          [256, 16, 16]        512        True      \n",
              "______________________________________________________________________\n",
              "Conv2d               [1024, 16, 16]       262,144    False     \n",
              "______________________________________________________________________\n",
              "BatchNorm2d          [1024, 16, 16]       2,048      True      \n",
              "______________________________________________________________________\n",
              "ReLU                 [1024, 16, 16]       0          False     \n",
              "______________________________________________________________________\n",
              "Conv2d               [512, 16, 16]        524,288    False     \n",
              "______________________________________________________________________\n",
              "BatchNorm2d          [512, 16, 16]        1,024      True      \n",
              "______________________________________________________________________\n",
              "Conv2d               [512, 8, 8]          2,359,296  False     \n",
              "______________________________________________________________________\n",
              "BatchNorm2d          [512, 8, 8]          1,024      True      \n",
              "______________________________________________________________________\n",
              "Conv2d               [2048, 8, 8]         1,048,576  False     \n",
              "______________________________________________________________________\n",
              "BatchNorm2d          [2048, 8, 8]         4,096      True      \n",
              "______________________________________________________________________\n",
              "ReLU                 [2048, 8, 8]         0          False     \n",
              "______________________________________________________________________\n",
              "Conv2d               [2048, 8, 8]         2,097,152  False     \n",
              "______________________________________________________________________\n",
              "BatchNorm2d          [2048, 8, 8]         4,096      True      \n",
              "______________________________________________________________________\n",
              "Conv2d               [512, 8, 8]          1,048,576  False     \n",
              "______________________________________________________________________\n",
              "BatchNorm2d          [512, 8, 8]          1,024      True      \n",
              "______________________________________________________________________\n",
              "Conv2d               [512, 8, 8]          2,359,296  False     \n",
              "______________________________________________________________________\n",
              "BatchNorm2d          [512, 8, 8]          1,024      True      \n",
              "______________________________________________________________________\n",
              "Conv2d               [2048, 8, 8]         1,048,576  False     \n",
              "______________________________________________________________________\n",
              "BatchNorm2d          [2048, 8, 8]         4,096      True      \n",
              "______________________________________________________________________\n",
              "ReLU                 [2048, 8, 8]         0          False     \n",
              "______________________________________________________________________\n",
              "Conv2d               [512, 8, 8]          1,048,576  False     \n",
              "______________________________________________________________________\n",
              "BatchNorm2d          [512, 8, 8]          1,024      True      \n",
              "______________________________________________________________________\n",
              "Conv2d               [512, 8, 8]          2,359,296  False     \n",
              "______________________________________________________________________\n",
              "BatchNorm2d          [512, 8, 8]          1,024      True      \n",
              "______________________________________________________________________\n",
              "Conv2d               [2048, 8, 8]         1,048,576  False     \n",
              "______________________________________________________________________\n",
              "BatchNorm2d          [2048, 8, 8]         4,096      True      \n",
              "______________________________________________________________________\n",
              "ReLU                 [2048, 8, 8]         0          False     \n",
              "______________________________________________________________________\n",
              "AdaptiveAvgPool2d    [2048, 4, 4]         0          False     \n",
              "______________________________________________________________________\n",
              "AdaptiveMaxPool2d    [2048, 4, 4]         0          False     \n",
              "______________________________________________________________________\n",
              "Flatten              [65536]              0          False     \n",
              "______________________________________________________________________\n",
              "ReLU                 [65536]              0          False     \n",
              "______________________________________________________________________\n",
              "Dropout              [65536]              0          False     \n",
              "______________________________________________________________________\n",
              "Linear               [256]                16,777,472 True      \n",
              "______________________________________________________________________\n",
              "ReLU                 [256]                0          False     \n",
              "______________________________________________________________________\n",
              "BatchNorm1d          [256]                512        True      \n",
              "______________________________________________________________________\n",
              "Dropout              [256]                0          False     \n",
              "______________________________________________________________________\n",
              "Linear               [8]                  2,056      True      \n",
              "______________________________________________________________________\n",
              "\n",
              "Total params: 40,288,072\n",
              "Total trainable params: 16,833,160\n",
              "Total non-trainable params: 23,454,912\n",
              "Optimized with 'torch.optim.adam.Adam', betas=(0.9, 0.99)\n",
              "Using true weight decay as discussed in https://www.fast.ai/2018/07/02/adam-weight-decay/ \n",
              "Loss function : CrossEntropyLoss\n",
              "======================================================================\n",
              "Callbacks functions applied "
            ]
          },
          "metadata": {
            "tags": []
          },
          "execution_count": 78
        }
      ]
    },
    {
      "cell_type": "code",
      "metadata": {
        "id": "SQN2ny2qI1Du",
        "colab_type": "code",
        "colab": {}
      },
      "source": [
        "learn.freeze()"
      ],
      "execution_count": 0,
      "outputs": []
    },
    {
      "cell_type": "code",
      "metadata": {
        "id": "p1088GgyJM39",
        "colab_type": "code",
        "colab": {
          "base_uri": "https://localhost:8080/",
          "height": 340
        },
        "outputId": "c8a0cc57-f031-4ec2-9a45-78f4106a1995"
      },
      "source": [
        "lr=1e-2\n",
        "learn.fit_one_cycle(10, slice(lr/10, lr))"
      ],
      "execution_count": 80,
      "outputs": [
        {
          "output_type": "display_data",
          "data": {
            "text/html": [
              "<table border=\"1\" class=\"dataframe\">\n",
              "  <thead>\n",
              "    <tr style=\"text-align: left;\">\n",
              "      <th>epoch</th>\n",
              "      <th>train_loss</th>\n",
              "      <th>valid_loss</th>\n",
              "      <th>accuracy</th>\n",
              "      <th>time</th>\n",
              "    </tr>\n",
              "  </thead>\n",
              "  <tbody>\n",
              "    <tr>\n",
              "      <td>0</td>\n",
              "      <td>1.030070</td>\n",
              "      <td>6.396780</td>\n",
              "      <td>0.075000</td>\n",
              "      <td>00:14</td>\n",
              "    </tr>\n",
              "    <tr>\n",
              "      <td>1</td>\n",
              "      <td>0.602217</td>\n",
              "      <td>0.742548</td>\n",
              "      <td>0.875000</td>\n",
              "      <td>00:14</td>\n",
              "    </tr>\n",
              "    <tr>\n",
              "      <td>2</td>\n",
              "      <td>0.422544</td>\n",
              "      <td>0.409995</td>\n",
              "      <td>0.925000</td>\n",
              "      <td>00:14</td>\n",
              "    </tr>\n",
              "    <tr>\n",
              "      <td>3</td>\n",
              "      <td>0.343241</td>\n",
              "      <td>0.539153</td>\n",
              "      <td>0.925000</td>\n",
              "      <td>00:14</td>\n",
              "    </tr>\n",
              "    <tr>\n",
              "      <td>4</td>\n",
              "      <td>0.272984</td>\n",
              "      <td>0.632446</td>\n",
              "      <td>0.875000</td>\n",
              "      <td>00:14</td>\n",
              "    </tr>\n",
              "    <tr>\n",
              "      <td>5</td>\n",
              "      <td>0.238929</td>\n",
              "      <td>0.577451</td>\n",
              "      <td>0.900000</td>\n",
              "      <td>00:13</td>\n",
              "    </tr>\n",
              "    <tr>\n",
              "      <td>6</td>\n",
              "      <td>0.191963</td>\n",
              "      <td>0.317238</td>\n",
              "      <td>0.950000</td>\n",
              "      <td>00:14</td>\n",
              "    </tr>\n",
              "    <tr>\n",
              "      <td>7</td>\n",
              "      <td>0.225696</td>\n",
              "      <td>0.469511</td>\n",
              "      <td>0.925000</td>\n",
              "      <td>00:14</td>\n",
              "    </tr>\n",
              "    <tr>\n",
              "      <td>8</td>\n",
              "      <td>0.180653</td>\n",
              "      <td>0.313698</td>\n",
              "      <td>0.925000</td>\n",
              "      <td>00:14</td>\n",
              "    </tr>\n",
              "    <tr>\n",
              "      <td>9</td>\n",
              "      <td>0.208876</td>\n",
              "      <td>0.354520</td>\n",
              "      <td>0.925000</td>\n",
              "      <td>00:14</td>\n",
              "    </tr>\n",
              "  </tbody>\n",
              "</table>"
            ],
            "text/plain": [
              "<IPython.core.display.HTML object>"
            ]
          },
          "metadata": {
            "tags": []
          }
        }
      ]
    },
    {
      "cell_type": "code",
      "metadata": {
        "id": "0aqXBAL7JQGK",
        "colab_type": "code",
        "colab": {
          "base_uri": "https://localhost:8080/",
          "height": 279
        },
        "outputId": "5f851a42-7eab-4891-ece9-06d1865013ea"
      },
      "source": [
        "learn.recorder.plot_losses()"
      ],
      "execution_count": 81,
      "outputs": [
        {
          "output_type": "display_data",
          "data": {
            "image/png": "[encoded data removed]",
            "text/plain": [
              "<Figure size 432x288 with 1 Axes>"
            ]
          },
          "metadata": {
            "tags": [],
            "needs_background": "light"
          }
        }
      ]
    },
    {
      "cell_type": "code",
      "metadata": {
        "colab_type": "code",
        "id": "T78jx8esAq6a",
        "colab": {}
      },
      "source": [
        "learn.unfreeze()"
      ],
      "execution_count": 0,
      "outputs": []
    },
    {
      "cell_type": "code",
      "metadata": {
        "id": "VHuLC8cfWFkM",
        "colab_type": "code",
        "colab": {
          "base_uri": "https://localhost:8080/",
          "height": 340
        },
        "outputId": "10b33cfe-435d-4cd0-8e9c-bab7bd121653"
      },
      "source": [
        "lr=1e-3\n",
        "learn.fit_one_cycle(10, slice(lr/10, lr))"
      ],
      "execution_count": 83,
      "outputs": [
        {
          "output_type": "display_data",
          "data": {
            "text/html": [
              "<table border=\"1\" class=\"dataframe\">\n",
              "  <thead>\n",
              "    <tr style=\"text-align: left;\">\n",
              "      <th>epoch</th>\n",
              "      <th>train_loss</th>\n",
              "      <th>valid_loss</th>\n",
              "      <th>accuracy</th>\n",
              "      <th>time</th>\n",
              "    </tr>\n",
              "  </thead>\n",
              "  <tbody>\n",
              "    <tr>\n",
              "      <td>0</td>\n",
              "      <td>0.075105</td>\n",
              "      <td>0.371518</td>\n",
              "      <td>0.925000</td>\n",
              "      <td>00:14</td>\n",
              "    </tr>\n",
              "    <tr>\n",
              "      <td>1</td>\n",
              "      <td>0.110694</td>\n",
              "      <td>0.253070</td>\n",
              "      <td>0.925000</td>\n",
              "      <td>00:14</td>\n",
              "    </tr>\n",
              "    <tr>\n",
              "      <td>2</td>\n",
              "      <td>0.214442</td>\n",
              "      <td>0.798251</td>\n",
              "      <td>0.825000</td>\n",
              "      <td>00:15</td>\n",
              "    </tr>\n",
              "    <tr>\n",
              "      <td>3</td>\n",
              "      <td>0.276299</td>\n",
              "      <td>0.529592</td>\n",
              "      <td>0.800000</td>\n",
              "      <td>00:14</td>\n",
              "    </tr>\n",
              "    <tr>\n",
              "      <td>4</td>\n",
              "      <td>0.267320</td>\n",
              "      <td>0.373369</td>\n",
              "      <td>0.900000</td>\n",
              "      <td>00:15</td>\n",
              "    </tr>\n",
              "    <tr>\n",
              "      <td>5</td>\n",
              "      <td>0.223691</td>\n",
              "      <td>0.400111</td>\n",
              "      <td>0.925000</td>\n",
              "      <td>00:14</td>\n",
              "    </tr>\n",
              "    <tr>\n",
              "      <td>6</td>\n",
              "      <td>0.206152</td>\n",
              "      <td>0.339309</td>\n",
              "      <td>0.950000</td>\n",
              "      <td>00:15</td>\n",
              "    </tr>\n",
              "    <tr>\n",
              "      <td>7</td>\n",
              "      <td>0.156253</td>\n",
              "      <td>0.346823</td>\n",
              "      <td>0.950000</td>\n",
              "      <td>00:14</td>\n",
              "    </tr>\n",
              "    <tr>\n",
              "      <td>8</td>\n",
              "      <td>0.174205</td>\n",
              "      <td>0.336105</td>\n",
              "      <td>0.950000</td>\n",
              "      <td>00:14</td>\n",
              "    </tr>\n",
              "    <tr>\n",
              "      <td>9</td>\n",
              "      <td>0.171473</td>\n",
              "      <td>0.327032</td>\n",
              "      <td>0.950000</td>\n",
              "      <td>00:15</td>\n",
              "    </tr>\n",
              "  </tbody>\n",
              "</table>"
            ],
            "text/plain": [
              "<IPython.core.display.HTML object>"
            ]
          },
          "metadata": {
            "tags": []
          }
        }
      ]
    },
    {
      "cell_type": "code",
      "metadata": {
        "id": "WDaQySBwWINc",
        "colab_type": "code",
        "colab": {
          "base_uri": "https://localhost:8080/",
          "height": 279
        },
        "outputId": "4107b3d7-4a64-4c0b-bd4d-10fbdfb101dd"
      },
      "source": [
        "learn.recorder.plot_losses()"
      ],
      "execution_count": 84,
      "outputs": [
        {
          "output_type": "display_data",
          "data": {
            "image/png": "[encoded data removed]",
            "text/plain": [
              "<Figure size 432x288 with 1 Axes>"
            ]
          },
          "metadata": {
            "tags": [],
            "needs_background": "light"
          }
        }
      ]
    },
    {
      "cell_type": "code",
      "metadata": {
        "id": "qL6pE52sXUw8",
        "colab_type": "code",
        "colab": {}
      },
      "source": [
        "learn.export()  "
      ],
      "execution_count": 0,
      "outputs": []
    },
    {
      "cell_type": "code",
      "metadata": {
        "id": "OTwfM1a0XrNp",
        "colab_type": "code",
        "colab": {
          "base_uri": "https://localhost:8080/",
          "height": 35
        },
        "outputId": "0ec8d4b3-04b0-46a7-c036-132efa6ca6a5"
      },
      "source": [
        "learn.path"
      ],
      "execution_count": 86,
      "outputs": [
        {
          "output_type": "execute_result",
          "data": {
            "text/plain": [
              "PosixPath('/content/drive/My Drive/all/train')"
            ]
          },
          "metadata": {
            "tags": []
          },
          "execution_count": 86
        }
      ]
    },
    {
      "cell_type": "code",
      "metadata": {
        "id": "fHEg5v-IXvBs",
        "colab_type": "code",
        "colab": {}
      },
      "source": [
        ""
      ],
      "execution_count": 0,
      "outputs": []
    },
    {
      "cell_type": "code",
      "metadata": {
        "id": "4EXu_tlkX0Pf",
        "colab_type": "code",
        "colab": {}
      },
      "source": [
        "classes=['covid','normal','pneumonia_bac']"
      ],
      "execution_count": 0,
      "outputs": []
    },
    {
      "cell_type": "code",
      "metadata": {
        "colab_type": "code",
        "id": "cWmLlW_5jWej",
        "colab": {
          "base_uri": "https://localhost:8080/",
          "height": 35
        },
        "outputId": "06da89da-c5ff-41d8-91ef-ef87caff5dd2"
      },
      "source": [
        "data.classes"
      ],
      "execution_count": 88,
      "outputs": [
        {
          "output_type": "execute_result",
          "data": {
            "text/plain": [
              "['covid', 'normal', 'pneumonia_bac']"
            ]
          },
          "metadata": {
            "tags": []
          },
          "execution_count": 88
        }
      ]
    },
    {
      "cell_type": "code",
      "metadata": {
        "id": "XQZxgLOOYaqL",
        "colab_type": "code",
        "colab": {}
      },
      "source": [
        "img=open_image(path/'test/covid/nejmoa2001191_f3-PA.jpeg')"
      ],
      "execution_count": 0,
      "outputs": []
    },
    {
      "cell_type": "code",
      "metadata": {
        "id": "-uIbdpJCkMrw",
        "colab_type": "code",
        "colab": {}
      },
      "source": [
        "img1=open_image(path/'test/covid/nejmoa2001191_f4.jpeg')\n",
        "img2=open_image(path/'test/covid/nejmoa2001191_f5-PA.jpeg')\n",
        "img3=open_image(path/'test/covid/radiol.2020200490.fig3.jpeg')\n",
        "img4=open_image(path/'test/covid/ryct.2020200028.fig1a.jpeg')\n",
        "img5=open_image(path/'test/covid/ryct.2020200034.fig2.jpeg')\n",
        "img6=open_image(path/'test/covid/ryct.2020200034.fig5-day0.jpeg')\n",
        "img7=open_image(path/'test/covid/ryct.2020200034.fig5-day4.jpeg')\n",
        "img8=open_image(path/'test/covid/ryct.2020200034.fig5-day7.jpeg')\n",
        "img9=open_image(path/'test/normal/NORMAL2-IM-1423-0001.jpeg')\n",
        "img10=open_image(path/'test/normal/NORMAL2-IM-1385-0001.jpeg')\n",
        "img11=open_image(path/'test/normal/NORMAL2-IM-1396-0001.jpeg')\n",
        "img12=open_image(path/'test/normal/NORMAL2-IM-1400-0001.jpeg')\n",
        "img13=open_image(path/'test/normal/NORMAL2-IM-1401-0001.jpeg')\n",
        "img14=open_image(path/'test/normal/NORMAL2-IM-1406-0001.jpeg')\n",
        "img15=open_image(path/'test/normal/NORMAL2-IM-1412-0001.jpeg')\n",
        "img16=open_image(path/'test/normal/NORMAL2-IM-1419-0001.jpeg')\n",
        "img17=open_image(path/'test/normal/NORMAL2-IM-1422-0001.jpeg')\n",
        "img18=open_image(path/'test/pneumonia_bac/person1753_bacteria_4594.jpeg')\n",
        "img19=open_image(path/'test/pneumonia_bac/person1940_bacteria_4859.jpeg')\n",
        "img20=open_image(path/'test/pneumonia_bac/person1940_bacteria_4861.jpeg')\n",
        "img21=open_image(path/'test/pneumonia_bac/person1940_bacteria_4862.jpeg')\n",
        "img22=open_image(path/'test/pneumonia_bac/person1941_bacteria_4863.jpeg')\n",
        "img23=open_image(path/'test/pneumonia_bac/person1942_bacteria_4865.jpeg')\n",
        "img24=open_image(path/'test/pneumonia_bac/person1943_bacteria_4868.jpeg')\n",
        "img25=open_image(path/'test/pneumonia_bac/person1944_bacteria_4869.jpeg')\n",
        "img26=open_image(path/'test/pneumonia_bac/person1945_bacteria_4872.jpeg')\n"
      ],
      "execution_count": 0,
      "outputs": []
    },
    {
      "cell_type": "code",
      "metadata": {
        "id": "2gsEMc0BkO_c",
        "colab_type": "code",
        "colab": {}
      },
      "source": [
        "testing=load_learner(path/'train')"
      ],
      "execution_count": 0,
      "outputs": []
    },
    {
      "cell_type": "code",
      "metadata": {
        "id": "43EmU_PSzbzG",
        "colab_type": "code",
        "colab": {}
      },
      "source": [
        "images=[img,img1,img2,img3,img4,img5,img6,img7,img8,img9,img10,img11,img12,img13,img14,img15,img16,img17,img18,img19,img20,img21,img22,img23,img24,img25,img26]"
      ],
      "execution_count": 0,
      "outputs": []
    },
    {
      "cell_type": "code",
      "metadata": {
        "id": "gr-p50zI1KrE",
        "colab_type": "code",
        "colab": {}
      },
      "source": [
        "original=['covid','covid','covid','covid','covid','covid','covid','covid','covid','normal','normal','normal','normal','normal','normal','normal','normal','normal','pneumonia_bac','pneumonia_bac','pneumonia_bac','pneumonia_bac','pneumonia_bac','pneumonia_bac','pneumonia_bac','pneumonia_bac','pneumonia_bac']"
      ],
      "execution_count": 0,
      "outputs": []
    },
    {
      "cell_type": "code",
      "metadata": {
        "id": "xS8T5zfSohsL",
        "colab_type": "code",
        "colab": {}
      },
      "source": [
        "predictions=[]\n",
        "for i in images:\n",
        "  pred_class,pred_idx,outputs = testing.predict(i)\n",
        "  predictions.append(pred_idx)"
      ],
      "execution_count": 0,
      "outputs": []
    },
    {
      "cell_type": "code",
      "metadata": {
        "id": "NU8-gF-UomOV",
        "colab_type": "code",
        "colab": {
          "base_uri": "https://localhost:8080/",
          "height": 497
        },
        "outputId": "8ae927be-4b96-472a-92ad-5d61b9c83103"
      },
      "source": [
        "predictions"
      ],
      "execution_count": 95,
      "outputs": [
        {
          "output_type": "execute_result",
          "data": {
            "text/plain": [
              "[tensor(0),\n",
              " tensor(0),\n",
              " tensor(0),\n",
              " tensor(0),\n",
              " tensor(0),\n",
              " tensor(0),\n",
              " tensor(0),\n",
              " tensor(0),\n",
              " tensor(0),\n",
              " tensor(1),\n",
              " tensor(2),\n",
              " tensor(1),\n",
              " tensor(1),\n",
              " tensor(1),\n",
              " tensor(2),\n",
              " tensor(1),\n",
              " tensor(2),\n",
              " tensor(1),\n",
              " tensor(2),\n",
              " tensor(2),\n",
              " tensor(2),\n",
              " tensor(2),\n",
              " tensor(2),\n",
              " tensor(2),\n",
              " tensor(2),\n",
              " tensor(2),\n",
              " tensor(2)]"
            ]
          },
          "metadata": {
            "tags": []
          },
          "execution_count": 95
        }
      ]
    },
    {
      "cell_type": "code",
      "metadata": {
        "id": "XpuBusgNpVeH",
        "colab_type": "code",
        "colab": {}
      },
      "source": [
        "predclass=[]\n",
        "for i in predictions:\n",
        "  predclass.append(data.classes[i])"
      ],
      "execution_count": 0,
      "outputs": []
    },
    {
      "cell_type": "code",
      "metadata": {
        "id": "3pfrEzW2qqfY",
        "colab_type": "code",
        "colab": {
          "base_uri": "https://localhost:8080/",
          "height": 497
        },
        "outputId": "c9290e23-7663-4f01-facd-04b9cedd09cd"
      },
      "source": [
        "predclass"
      ],
      "execution_count": 97,
      "outputs": [
        {
          "output_type": "execute_result",
          "data": {
            "text/plain": [
              "['covid',\n",
              " 'covid',\n",
              " 'covid',\n",
              " 'covid',\n",
              " 'covid',\n",
              " 'covid',\n",
              " 'covid',\n",
              " 'covid',\n",
              " 'covid',\n",
              " 'normal',\n",
              " 'pneumonia_bac',\n",
              " 'normal',\n",
              " 'normal',\n",
              " 'normal',\n",
              " 'pneumonia_bac',\n",
              " 'normal',\n",
              " 'pneumonia_bac',\n",
              " 'normal',\n",
              " 'pneumonia_bac',\n",
              " 'pneumonia_bac',\n",
              " 'pneumonia_bac',\n",
              " 'pneumonia_bac',\n",
              " 'pneumonia_bac',\n",
              " 'pneumonia_bac',\n",
              " 'pneumonia_bac',\n",
              " 'pneumonia_bac',\n",
              " 'pneumonia_bac']"
            ]
          },
          "metadata": {
            "tags": []
          },
          "execution_count": 97
        }
      ]
    },
    {
      "cell_type": "code",
      "metadata": {
        "id": "IlxastYCrjOe",
        "colab_type": "code",
        "colab": {
          "base_uri": "https://localhost:8080/",
          "height": 35
        },
        "outputId": "789fcac4-713a-4fd1-a5cf-0cf78217270f"
      },
      "source": [
        "from sklearn.metrics import accuracy_score\n",
        "accuracy_score(original, predclass)"
      ],
      "execution_count": 98,
      "outputs": [
        {
          "output_type": "execute_result",
          "data": {
            "text/plain": [
              "0.8888888888888888"
            ]
          },
          "metadata": {
            "tags": []
          },
          "execution_count": 98
        }
      ]
    },
    {
      "cell_type": "code",
      "metadata": {
        "id": "aiygDGiOtWXd",
        "colab_type": "code",
        "colab": {}
      },
      "source": [
        ""
      ],
      "execution_count": 0,
      "outputs": []
    },
    {
      "cell_type": "code",
      "metadata": {
        "id": "ByQO3QlM5VAl",
        "colab_type": "code",
        "colab": {}
      },
      "source": [
        ""
      ],
      "execution_count": 0,
      "outputs": []
    },
    {
      "cell_type": "code",
      "metadata": {
        "id": "ndrwvei47X1C",
        "colab_type": "code",
        "colab": {}
      },
      "source": [
        ""
      ],
      "execution_count": 0,
      "outputs": []
    },
    {
      "cell_type": "code",
      "metadata": {
        "id": "LLcqd6qY7iSu",
        "colab_type": "code",
        "colab": {}
      },
      "source": [
        ""
      ],
      "execution_count": 0,
      "outputs": []
    },
    {
      "cell_type": "code",
      "metadata": {
        "id": "NDb0Jntq9JQ8",
        "colab_type": "code",
        "colab": {}
      },
      "source": [
        ""
      ],
      "execution_count": 0,
      "outputs": []
    }
  ]
}