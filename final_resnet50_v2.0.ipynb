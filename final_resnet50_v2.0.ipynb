{
 "cells": [
  {
   "cell_type": "code",
   "execution_count": 1,
   "metadata": {
    "colab": {
     "base_uri": "https://localhost:8080/",
     "height": 123
    },
    "colab_type": "code",
    "id": "blSjT5099lDw",
    "outputId": "54a3358a-cf19-42db-8c65-e8dc1392b270"
   },
   "outputs": [
    {
     "name": "stdout",
     "output_type": "stream",
     "text": [
      "Go to this URL in a browser: https://accounts.google.com/o/oauth2/auth?client_id=947318989803-6bn6qk8qdgf4n4g3pfee6491hc0brc4i.apps.googleusercontent.com&redirect_uri=urn%3aietf%3awg%3aoauth%3a2.0%3aoob&response_type=code&scope=email%20https%3a%2f%2fwww.googleapis.com%2fauth%2fdocs.test%20https%3a%2f%2fwww.googleapis.com%2fauth%2fdrive%20https%3a%2f%2fwww.googleapis.com%2fauth%2fdrive.photos.readonly%20https%3a%2f%2fwww.googleapis.com%2fauth%2fpeopleapi.readonly\n",
      "\n",
      "Enter your authorization code:\n",
      "··········\n",
      "Mounted at /content/drive\n"
     ]
    }
   ],
   "source": [
    "from google.colab import drive\n",
    "drive.mount('/content/drive',force_remount=True)"
   ]
  },
  {
   "cell_type": "code",
   "execution_count": 2,
   "metadata": {
    "colab": {
     "base_uri": "https://localhost:8080/",
     "height": 311
    },
    "colab_type": "code",
    "id": "FgmMQ8mlT7T1",
    "outputId": "a28857cb-41b8-4a40-ee4a-f5d60740bd4f"
   },
   "outputs": [
    {
     "name": "stdout",
     "output_type": "stream",
     "text": [
      "Collecting torch==1.4.0\n",
      "\u001b[?25l  Downloading https://files.pythonhosted.org/packages/24/19/4804aea17cd136f1705a5e98a00618cb8f6ccc375ad8bfa437408e09d058/torch-1.4.0-cp36-cp36m-manylinux1_x86_64.whl (753.4MB)\n",
      "\u001b[K     |████████████████████████████████| 753.4MB 22kB/s \n",
      "\u001b[?25hCollecting torchvision==0.5.0\n",
      "\u001b[?25l  Downloading https://files.pythonhosted.org/packages/7e/90/6141bf41f5655c78e24f40f710fdd4f8a8aff6c8b7c6f0328240f649bdbe/torchvision-0.5.0-cp36-cp36m-manylinux1_x86_64.whl (4.0MB)\n",
      "\u001b[K     |████████████████████████████████| 4.0MB 31.0MB/s \n",
      "\u001b[?25hRequirement already satisfied: numpy in /usr/local/lib/python3.6/dist-packages (from torchvision==0.5.0) (1.18.4)\n",
      "Requirement already satisfied: pillow>=4.1.1 in /usr/local/lib/python3.6/dist-packages (from torchvision==0.5.0) (7.0.0)\n",
      "Requirement already satisfied: six in /usr/local/lib/python3.6/dist-packages (from torchvision==0.5.0) (1.12.0)\n",
      "Installing collected packages: torch, torchvision\n",
      "  Found existing installation: torch 1.5.0+cu101\n",
      "    Uninstalling torch-1.5.0+cu101:\n",
      "      Successfully uninstalled torch-1.5.0+cu101\n",
      "  Found existing installation: torchvision 0.6.0+cu101\n",
      "    Uninstalling torchvision-0.6.0+cu101:\n",
      "      Successfully uninstalled torchvision-0.6.0+cu101\n",
      "Successfully installed torch-1.4.0 torchvision-0.5.0\n"
     ]
    }
   ],
   "source": [
    "!pip install \"torch == 1.4.0\" \"torchvision==0.5.0\""
   ]
  },
  {
   "cell_type": "code",
   "execution_count": 3,
   "metadata": {
    "colab": {
     "base_uri": "https://localhost:8080/",
     "height": 34
    },
    "colab_type": "code",
    "id": "2DH2dD_-9qWu",
    "outputId": "bec955f5-7b6d-46b6-dd74-f840be522370"
   },
   "outputs": [
    {
     "name": "stdout",
     "output_type": "stream",
     "text": [
      "Populating the interactive namespace from numpy and matplotlib\n"
     ]
    }
   ],
   "source": [
    "from pathlib import Path\n",
    "%pylab inline\n",
    "from fastai.vision import *\n",
    "import pandas as pd\n",
    "path =Path('/content/drive/My Drive/dataset/all/')\n"
   ]
  },
  {
   "cell_type": "code",
   "execution_count": 0,
   "metadata": {
    "colab": {},
    "colab_type": "code",
    "id": "CaDdEA0d_ixY"
   },
   "outputs": [],
   "source": [
    "data = ImageDataBunch.from_folder(path/'train', train='train', valid_pct=0.2, ds_tfms=get_transforms(), size=(256,256), bs=10, num_workers=4).normalize()"
   ]
  },
  {
   "cell_type": "code",
   "execution_count": 5,
   "metadata": {
    "colab": {
     "base_uri": "https://localhost:8080/",
     "height": 311
    },
    "colab_type": "code",
    "id": "z8k2O7HU_5a4",
    "outputId": "62e2b613-620e-4ec2-ceb2-4a22b2915528"
   },
   "outputs": [
    {
     "data": {
      "text/plain": [
       "ImageDataBunch;\n",
       "\n",
       "Train: LabelList (160 items)\n",
       "x: ImageList\n",
       "Image (3, 256, 256),Image (3, 256, 256),Image (3, 256, 256),Image (3, 256, 256),Image (3, 256, 256)\n",
       "y: CategoryList\n",
       "normal,normal,normal,normal,normal\n",
       "Path: /content/drive/My Drive/dataset/all/train;\n",
       "\n",
       "Valid: LabelList (40 items)\n",
       "x: ImageList\n",
       "Image (3, 256, 256),Image (3, 256, 256),Image (3, 256, 256),Image (3, 256, 256),Image (3, 256, 256)\n",
       "y: CategoryList\n",
       "pneumonia_bac,pneumonia_bac,covid,covid,covid\n",
       "Path: /content/drive/My Drive/dataset/all/train;\n",
       "\n",
       "Test: None"
      ]
     },
     "execution_count": 5,
     "metadata": {
      "tags": []
     },
     "output_type": "execute_result"
    }
   ],
   "source": [
    "data"
   ]
  },
  {
   "cell_type": "code",
   "execution_count": 0,
   "metadata": {
    "colab": {},
    "colab_type": "code",
    "id": "YB4X0iffIRs6"
   },
   "outputs": [],
   "source": [
    "custom_head = nn.Sequential(\n",
    "    AdaptiveConcatPool2d((4,4)),\n",
    "    Flatten(),\n",
    "    nn.ReLU(),\n",
    "    nn.Dropout(0.5),\n",
    "    nn.Linear(65536,256),\n",
    "    nn.ReLU(),\n",
    "    nn.BatchNorm1d(256),\n",
    "    nn.Dropout(0.5),\n",
    "    nn.Linear(256,3))"
   ]
  },
  {
   "cell_type": "code",
   "execution_count": 7,
   "metadata": {
    "colab": {
     "base_uri": "https://localhost:8080/",
     "height": 83,
     "referenced_widgets": [
      "4969bb63df2a4e209222840c66bd883e",
      "5c492aa8dafb446db41fa1234f79cf94",
      "273772a3f2ad4de7b3fec7b890b1888b",
      "b419d0a595e04bb6bd026f2ca81e3413",
      "e80cc8b551d04d118b8b65b70d3ae6eb",
      "d58603bfcdf24e99bcff7a47279cb194",
      "1e7e0d6dc9cd420c8e40d71918b98de1",
      "f0e9473d30ab49cfa188971c6de9f735"
     ]
    },
    "colab_type": "code",
    "id": "x250hXtxIcdp",
    "outputId": "77a42027-e57c-4eb1-c3cd-5878cfa3b618"
   },
   "outputs": [
    {
     "name": "stderr",
     "output_type": "stream",
     "text": [
      "Downloading: \"https://download.pytorch.org/models/resnet50-19c8e357.pth\" to /root/.cache/torch/checkpoints/resnet50-19c8e357.pth\n"
     ]
    },
    {
     "data": {
      "application/vnd.jupyter.widget-view+json": {
       "model_id": "4969bb63df2a4e209222840c66bd883e",
       "version_major": 2,
       "version_minor": 0
      },
      "text/plain": [
       "HBox(children=(FloatProgress(value=0.0, max=102502400.0), HTML(value='')))"
      ]
     },
     "metadata": {
      "tags": []
     },
     "output_type": "display_data"
    },
    {
     "name": "stdout",
     "output_type": "stream",
     "text": [
      "\n"
     ]
    }
   ],
   "source": [
    "learn=cnn_learner(data, models.resnet50, custom_head=custom_head, loss_func=nn.CrossEntropyLoss(), metrics=[accuracy])"
   ]
  },
  {
   "cell_type": "code",
   "execution_count": 8,
   "metadata": {
    "colab": {
     "base_uri": "https://localhost:8080/",
     "height": 1000
    },
    "colab_type": "code",
    "id": "jC7f11T4yKkg",
    "outputId": "2ba71db2-a5ed-4f7c-c1a5-0839fdc43fbf"
   },
   "outputs": [
    {
     "data": {
      "text/plain": [
       "Sequential\n",
       "======================================================================\n",
       "Layer (type)         Output Shape         Param #    Trainable \n",
       "======================================================================\n",
       "Conv2d               [64, 128, 128]       9,408      False     \n",
       "______________________________________________________________________\n",
       "BatchNorm2d          [64, 128, 128]       128        True      \n",
       "______________________________________________________________________\n",
       "ReLU                 [64, 128, 128]       0          False     \n",
       "______________________________________________________________________\n",
       "MaxPool2d            [64, 64, 64]         0          False     \n",
       "______________________________________________________________________\n",
       "Conv2d               [64, 64, 64]         4,096      False     \n",
       "______________________________________________________________________\n",
       "BatchNorm2d          [64, 64, 64]         128        True      \n",
       "______________________________________________________________________\n",
       "Conv2d               [64, 64, 64]         36,864     False     \n",
       "______________________________________________________________________\n",
       "BatchNorm2d          [64, 64, 64]         128        True      \n",
       "______________________________________________________________________\n",
       "Conv2d               [256, 64, 64]        16,384     False     \n",
       "______________________________________________________________________\n",
       "BatchNorm2d          [256, 64, 64]        512        True      \n",
       "______________________________________________________________________\n",
       "ReLU                 [256, 64, 64]        0          False     \n",
       "______________________________________________________________________\n",
       "Conv2d               [256, 64, 64]        16,384     False     \n",
       "______________________________________________________________________\n",
       "BatchNorm2d          [256, 64, 64]        512        True      \n",
       "______________________________________________________________________\n",
       "Conv2d               [64, 64, 64]         16,384     False     \n",
       "______________________________________________________________________\n",
       "BatchNorm2d          [64, 64, 64]         128        True      \n",
       "______________________________________________________________________\n",
       "Conv2d               [64, 64, 64]         36,864     False     \n",
       "______________________________________________________________________\n",
       "BatchNorm2d          [64, 64, 64]         128        True      \n",
       "______________________________________________________________________\n",
       "Conv2d               [256, 64, 64]        16,384     False     \n",
       "______________________________________________________________________\n",
       "BatchNorm2d          [256, 64, 64]        512        True      \n",
       "______________________________________________________________________\n",
       "ReLU                 [256, 64, 64]        0          False     \n",
       "______________________________________________________________________\n",
       "Conv2d               [64, 64, 64]         16,384     False     \n",
       "______________________________________________________________________\n",
       "BatchNorm2d          [64, 64, 64]         128        True      \n",
       "______________________________________________________________________\n",
       "Conv2d               [64, 64, 64]         36,864     False     \n",
       "______________________________________________________________________\n",
       "BatchNorm2d          [64, 64, 64]         128        True      \n",
       "______________________________________________________________________\n",
       "Conv2d               [256, 64, 64]        16,384     False     \n",
       "______________________________________________________________________\n",
       "BatchNorm2d          [256, 64, 64]        512        True      \n",
       "______________________________________________________________________\n",
       "ReLU                 [256, 64, 64]        0          False     \n",
       "______________________________________________________________________\n",
       "Conv2d               [128, 64, 64]        32,768     False     \n",
       "______________________________________________________________________\n",
       "BatchNorm2d          [128, 64, 64]        256        True      \n",
       "______________________________________________________________________\n",
       "Conv2d               [128, 32, 32]        147,456    False     \n",
       "______________________________________________________________________\n",
       "BatchNorm2d          [128, 32, 32]        256        True      \n",
       "______________________________________________________________________\n",
       "Conv2d               [512, 32, 32]        65,536     False     \n",
       "______________________________________________________________________\n",
       "BatchNorm2d          [512, 32, 32]        1,024      True      \n",
       "______________________________________________________________________\n",
       "ReLU                 [512, 32, 32]        0          False     \n",
       "______________________________________________________________________\n",
       "Conv2d               [512, 32, 32]        131,072    False     \n",
       "______________________________________________________________________\n",
       "BatchNorm2d          [512, 32, 32]        1,024      True      \n",
       "______________________________________________________________________\n",
       "Conv2d               [128, 32, 32]        65,536     False     \n",
       "______________________________________________________________________\n",
       "BatchNorm2d          [128, 32, 32]        256        True      \n",
       "______________________________________________________________________\n",
       "Conv2d               [128, 32, 32]        147,456    False     \n",
       "______________________________________________________________________\n",
       "BatchNorm2d          [128, 32, 32]        256        True      \n",
       "______________________________________________________________________\n",
       "Conv2d               [512, 32, 32]        65,536     False     \n",
       "______________________________________________________________________\n",
       "BatchNorm2d          [512, 32, 32]        1,024      True      \n",
       "______________________________________________________________________\n",
       "ReLU                 [512, 32, 32]        0          False     \n",
       "______________________________________________________________________\n",
       "Conv2d               [128, 32, 32]        65,536     False     \n",
       "______________________________________________________________________\n",
       "BatchNorm2d          [128, 32, 32]        256        True      \n",
       "______________________________________________________________________\n",
       "Conv2d               [128, 32, 32]        147,456    False     \n",
       "______________________________________________________________________\n",
       "BatchNorm2d          [128, 32, 32]        256        True      \n",
       "______________________________________________________________________\n",
       "Conv2d               [512, 32, 32]        65,536     False     \n",
       "______________________________________________________________________\n",
       "BatchNorm2d          [512, 32, 32]        1,024      True      \n",
       "______________________________________________________________________\n",
       "ReLU                 [512, 32, 32]        0          False     \n",
       "______________________________________________________________________\n",
       "Conv2d               [128, 32, 32]        65,536     False     \n",
       "______________________________________________________________________\n",
       "BatchNorm2d          [128, 32, 32]        256        True      \n",
       "______________________________________________________________________\n",
       "Conv2d               [128, 32, 32]        147,456    False     \n",
       "______________________________________________________________________\n",
       "BatchNorm2d          [128, 32, 32]        256        True      \n",
       "______________________________________________________________________\n",
       "Conv2d               [512, 32, 32]        65,536     False     \n",
       "______________________________________________________________________\n",
       "BatchNorm2d          [512, 32, 32]        1,024      True      \n",
       "______________________________________________________________________\n",
       "ReLU                 [512, 32, 32]        0          False     \n",
       "______________________________________________________________________\n",
       "Conv2d               [256, 32, 32]        131,072    False     \n",
       "______________________________________________________________________\n",
       "BatchNorm2d          [256, 32, 32]        512        True      \n",
       "______________________________________________________________________\n",
       "Conv2d               [256, 16, 16]        589,824    False     \n",
       "______________________________________________________________________\n",
       "BatchNorm2d          [256, 16, 16]        512        True      \n",
       "______________________________________________________________________\n",
       "Conv2d               [1024, 16, 16]       262,144    False     \n",
       "______________________________________________________________________\n",
       "BatchNorm2d          [1024, 16, 16]       2,048      True      \n",
       "______________________________________________________________________\n",
       "ReLU                 [1024, 16, 16]       0          False     \n",
       "______________________________________________________________________\n",
       "Conv2d               [1024, 16, 16]       524,288    False     \n",
       "______________________________________________________________________\n",
       "BatchNorm2d          [1024, 16, 16]       2,048      True      \n",
       "______________________________________________________________________\n",
       "Conv2d               [256, 16, 16]        262,144    False     \n",
       "______________________________________________________________________\n",
       "BatchNorm2d          [256, 16, 16]        512        True      \n",
       "______________________________________________________________________\n",
       "Conv2d               [256, 16, 16]        589,824    False     \n",
       "______________________________________________________________________\n",
       "BatchNorm2d          [256, 16, 16]        512        True      \n",
       "______________________________________________________________________\n",
       "Conv2d               [1024, 16, 16]       262,144    False     \n",
       "______________________________________________________________________\n",
       "BatchNorm2d          [1024, 16, 16]       2,048      True      \n",
       "______________________________________________________________________\n",
       "ReLU                 [1024, 16, 16]       0          False     \n",
       "______________________________________________________________________\n",
       "Conv2d               [256, 16, 16]        262,144    False     \n",
       "______________________________________________________________________\n",
       "BatchNorm2d          [256, 16, 16]        512        True      \n",
       "______________________________________________________________________\n",
       "Conv2d               [256, 16, 16]        589,824    False     \n",
       "______________________________________________________________________\n",
       "BatchNorm2d          [256, 16, 16]        512        True      \n",
       "______________________________________________________________________\n",
       "Conv2d               [1024, 16, 16]       262,144    False     \n",
       "______________________________________________________________________\n",
       "BatchNorm2d          [1024, 16, 16]       2,048      True      \n",
       "______________________________________________________________________\n",
       "ReLU                 [1024, 16, 16]       0          False     \n",
       "______________________________________________________________________\n",
       "Conv2d               [256, 16, 16]        262,144    False     \n",
       "______________________________________________________________________\n",
       "BatchNorm2d          [256, 16, 16]        512        True      \n",
       "______________________________________________________________________\n",
       "Conv2d               [256, 16, 16]        589,824    False     \n",
       "______________________________________________________________________\n",
       "BatchNorm2d          [256, 16, 16]        512        True      \n",
       "______________________________________________________________________\n",
       "Conv2d               [1024, 16, 16]       262,144    False     \n",
       "______________________________________________________________________\n",
       "BatchNorm2d          [1024, 16, 16]       2,048      True      \n",
       "______________________________________________________________________\n",
       "ReLU                 [1024, 16, 16]       0          False     \n",
       "______________________________________________________________________\n",
       "Conv2d               [256, 16, 16]        262,144    False     \n",
       "______________________________________________________________________\n",
       "BatchNorm2d          [256, 16, 16]        512        True      \n",
       "______________________________________________________________________\n",
       "Conv2d               [256, 16, 16]        589,824    False     \n",
       "______________________________________________________________________\n",
       "BatchNorm2d          [256, 16, 16]        512        True      \n",
       "______________________________________________________________________\n",
       "Conv2d               [1024, 16, 16]       262,144    False     \n",
       "______________________________________________________________________\n",
       "BatchNorm2d          [1024, 16, 16]       2,048      True      \n",
       "______________________________________________________________________\n",
       "ReLU                 [1024, 16, 16]       0          False     \n",
       "______________________________________________________________________\n",
       "Conv2d               [256, 16, 16]        262,144    False     \n",
       "______________________________________________________________________\n",
       "BatchNorm2d          [256, 16, 16]        512        True      \n",
       "______________________________________________________________________\n",
       "Conv2d               [256, 16, 16]        589,824    False     \n",
       "______________________________________________________________________\n",
       "BatchNorm2d          [256, 16, 16]        512        True      \n",
       "______________________________________________________________________\n",
       "Conv2d               [1024, 16, 16]       262,144    False     \n",
       "______________________________________________________________________\n",
       "BatchNorm2d          [1024, 16, 16]       2,048      True      \n",
       "______________________________________________________________________\n",
       "ReLU                 [1024, 16, 16]       0          False     \n",
       "______________________________________________________________________\n",
       "Conv2d               [512, 16, 16]        524,288    False     \n",
       "______________________________________________________________________\n",
       "BatchNorm2d          [512, 16, 16]        1,024      True      \n",
       "______________________________________________________________________\n",
       "Conv2d               [512, 8, 8]          2,359,296  False     \n",
       "______________________________________________________________________\n",
       "BatchNorm2d          [512, 8, 8]          1,024      True      \n",
       "______________________________________________________________________\n",
       "Conv2d               [2048, 8, 8]         1,048,576  False     \n",
       "______________________________________________________________________\n",
       "BatchNorm2d          [2048, 8, 8]         4,096      True      \n",
       "______________________________________________________________________\n",
       "ReLU                 [2048, 8, 8]         0          False     \n",
       "______________________________________________________________________\n",
       "Conv2d               [2048, 8, 8]         2,097,152  False     \n",
       "______________________________________________________________________\n",
       "BatchNorm2d          [2048, 8, 8]         4,096      True      \n",
       "______________________________________________________________________\n",
       "Conv2d               [512, 8, 8]          1,048,576  False     \n",
       "______________________________________________________________________\n",
       "BatchNorm2d          [512, 8, 8]          1,024      True      \n",
       "______________________________________________________________________\n",
       "Conv2d               [512, 8, 8]          2,359,296  False     \n",
       "______________________________________________________________________\n",
       "BatchNorm2d          [512, 8, 8]          1,024      True      \n",
       "______________________________________________________________________\n",
       "Conv2d               [2048, 8, 8]         1,048,576  False     \n",
       "______________________________________________________________________\n",
       "BatchNorm2d          [2048, 8, 8]         4,096      True      \n",
       "______________________________________________________________________\n",
       "ReLU                 [2048, 8, 8]         0          False     \n",
       "______________________________________________________________________\n",
       "Conv2d               [512, 8, 8]          1,048,576  False     \n",
       "______________________________________________________________________\n",
       "BatchNorm2d          [512, 8, 8]          1,024      True      \n",
       "______________________________________________________________________\n",
       "Conv2d               [512, 8, 8]          2,359,296  False     \n",
       "______________________________________________________________________\n",
       "BatchNorm2d          [512, 8, 8]          1,024      True      \n",
       "______________________________________________________________________\n",
       "Conv2d               [2048, 8, 8]         1,048,576  False     \n",
       "______________________________________________________________________\n",
       "BatchNorm2d          [2048, 8, 8]         4,096      True      \n",
       "______________________________________________________________________\n",
       "ReLU                 [2048, 8, 8]         0          False     \n",
       "______________________________________________________________________\n",
       "AdaptiveAvgPool2d    [2048, 4, 4]         0          False     \n",
       "______________________________________________________________________\n",
       "AdaptiveMaxPool2d    [2048, 4, 4]         0          False     \n",
       "______________________________________________________________________\n",
       "Flatten              [65536]              0          False     \n",
       "______________________________________________________________________\n",
       "ReLU                 [65536]              0          False     \n",
       "______________________________________________________________________\n",
       "Dropout              [65536]              0          False     \n",
       "______________________________________________________________________\n",
       "Linear               [256]                16,777,472 True      \n",
       "______________________________________________________________________\n",
       "ReLU                 [256]                0          False     \n",
       "______________________________________________________________________\n",
       "BatchNorm1d          [256]                512        True      \n",
       "______________________________________________________________________\n",
       "Dropout              [256]                0          False     \n",
       "______________________________________________________________________\n",
       "Linear               [3]                  771        True      \n",
       "______________________________________________________________________\n",
       "\n",
       "Total params: 40,286,787\n",
       "Total trainable params: 16,831,875\n",
       "Total non-trainable params: 23,454,912\n",
       "Optimized with 'torch.optim.adam.Adam', betas=(0.9, 0.99)\n",
       "Using true weight decay as discussed in https://www.fast.ai/2018/07/02/adam-weight-decay/ \n",
       "Loss function : CrossEntropyLoss\n",
       "======================================================================\n",
       "Callbacks functions applied "
      ]
     },
     "execution_count": 8,
     "metadata": {
      "tags": []
     },
     "output_type": "execute_result"
    }
   ],
   "source": [
    "learn.summary()"
   ]
  },
  {
   "cell_type": "code",
   "execution_count": 0,
   "metadata": {
    "colab": {},
    "colab_type": "code",
    "id": "SQN2ny2qI1Du"
   },
   "outputs": [],
   "source": [
    "learn.freeze()"
   ]
  },
  {
   "cell_type": "code",
   "execution_count": 10,
   "metadata": {
    "colab": {
     "base_uri": "https://localhost:8080/",
     "height": 355
    },
    "colab_type": "code",
    "id": "p1088GgyJM39",
    "outputId": "152e2570-d3a4-4b45-9732-628486fd884e"
   },
   "outputs": [
    {
     "data": {
      "text/html": [
       "<table border=\"1\" class=\"dataframe\">\n",
       "  <thead>\n",
       "    <tr style=\"text-align: left;\">\n",
       "      <th>epoch</th>\n",
       "      <th>train_loss</th>\n",
       "      <th>valid_loss</th>\n",
       "      <th>accuracy</th>\n",
       "      <th>time</th>\n",
       "    </tr>\n",
       "  </thead>\n",
       "  <tbody>\n",
       "    <tr>\n",
       "      <td>0</td>\n",
       "      <td>0.663406</td>\n",
       "      <td>0.667294</td>\n",
       "      <td>0.875000</td>\n",
       "      <td>00:28</td>\n",
       "    </tr>\n",
       "    <tr>\n",
       "      <td>1</td>\n",
       "      <td>0.494253</td>\n",
       "      <td>0.397875</td>\n",
       "      <td>0.925000</td>\n",
       "      <td>00:13</td>\n",
       "    </tr>\n",
       "    <tr>\n",
       "      <td>2</td>\n",
       "      <td>0.343772</td>\n",
       "      <td>0.196451</td>\n",
       "      <td>0.975000</td>\n",
       "      <td>00:14</td>\n",
       "    </tr>\n",
       "    <tr>\n",
       "      <td>3</td>\n",
       "      <td>0.305799</td>\n",
       "      <td>0.168678</td>\n",
       "      <td>0.950000</td>\n",
       "      <td>00:14</td>\n",
       "    </tr>\n",
       "    <tr>\n",
       "      <td>4</td>\n",
       "      <td>0.339417</td>\n",
       "      <td>0.467087</td>\n",
       "      <td>0.875000</td>\n",
       "      <td>00:13</td>\n",
       "    </tr>\n",
       "    <tr>\n",
       "      <td>5</td>\n",
       "      <td>0.291974</td>\n",
       "      <td>0.053781</td>\n",
       "      <td>0.975000</td>\n",
       "      <td>00:14</td>\n",
       "    </tr>\n",
       "    <tr>\n",
       "      <td>6</td>\n",
       "      <td>0.223431</td>\n",
       "      <td>0.040564</td>\n",
       "      <td>0.975000</td>\n",
       "      <td>00:13</td>\n",
       "    </tr>\n",
       "    <tr>\n",
       "      <td>7</td>\n",
       "      <td>0.187622</td>\n",
       "      <td>0.028018</td>\n",
       "      <td>1.000000</td>\n",
       "      <td>00:13</td>\n",
       "    </tr>\n",
       "    <tr>\n",
       "      <td>8</td>\n",
       "      <td>0.157202</td>\n",
       "      <td>0.025494</td>\n",
       "      <td>1.000000</td>\n",
       "      <td>00:13</td>\n",
       "    </tr>\n",
       "    <tr>\n",
       "      <td>9</td>\n",
       "      <td>0.147463</td>\n",
       "      <td>0.024377</td>\n",
       "      <td>1.000000</td>\n",
       "      <td>00:13</td>\n",
       "    </tr>\n",
       "  </tbody>\n",
       "</table>"
      ],
      "text/plain": [
       "<IPython.core.display.HTML object>"
      ]
     },
     "metadata": {
      "tags": []
     },
     "output_type": "display_data"
    }
   ],
   "source": [
    "lr=1e-2\n",
    "learn.fit_one_cycle(10, slice(lr/10, lr))"
   ]
  },
  {
   "cell_type": "code",
   "execution_count": 11,
   "metadata": {
    "colab": {
     "base_uri": "https://localhost:8080/",
     "height": 279
    },
    "colab_type": "code",
    "id": "0aqXBAL7JQGK",
    "outputId": "94f53c3e-0f27-4084-d123-984957d1c50b"
   },
   "outputs": [
    {
     "data": {
      "image/png": "[encoded data removed]",
      "text/plain": [
       "<Figure size 432x288 with 1 Axes>"
      ]
     },
     "metadata": {
      "needs_background": "light",
      "tags": []
     },
     "output_type": "display_data"
    }
   ],
   "source": [
    "learn.recorder.plot_losses()"
   ]
  },
  {
   "cell_type": "code",
   "execution_count": 0,
   "metadata": {
    "colab": {},
    "colab_type": "code",
    "id": "T78jx8esAq6a"
   },
   "outputs": [],
   "source": [
    "learn.unfreeze()"
   ]
  },
  {
   "cell_type": "code",
   "execution_count": 13,
   "metadata": {
    "colab": {
     "base_uri": "https://localhost:8080/",
     "height": 355
    },
    "colab_type": "code",
    "id": "VHuLC8cfWFkM",
    "outputId": "5dd5c73c-c388-49eb-b930-ffec27879e3e"
   },
   "outputs": [
    {
     "data": {
      "text/html": [
       "<table border=\"1\" class=\"dataframe\">\n",
       "  <thead>\n",
       "    <tr style=\"text-align: left;\">\n",
       "      <th>epoch</th>\n",
       "      <th>train_loss</th>\n",
       "      <th>valid_loss</th>\n",
       "      <th>accuracy</th>\n",
       "      <th>time</th>\n",
       "    </tr>\n",
       "  </thead>\n",
       "  <tbody>\n",
       "    <tr>\n",
       "      <td>0</td>\n",
       "      <td>0.177707</td>\n",
       "      <td>0.020855</td>\n",
       "      <td>1.000000</td>\n",
       "      <td>00:14</td>\n",
       "    </tr>\n",
       "    <tr>\n",
       "      <td>1</td>\n",
       "      <td>0.129334</td>\n",
       "      <td>0.035861</td>\n",
       "      <td>1.000000</td>\n",
       "      <td>00:14</td>\n",
       "    </tr>\n",
       "    <tr>\n",
       "      <td>2</td>\n",
       "      <td>0.207231</td>\n",
       "      <td>0.148106</td>\n",
       "      <td>0.925000</td>\n",
       "      <td>00:14</td>\n",
       "    </tr>\n",
       "    <tr>\n",
       "      <td>3</td>\n",
       "      <td>0.243086</td>\n",
       "      <td>0.323016</td>\n",
       "      <td>0.900000</td>\n",
       "      <td>00:14</td>\n",
       "    </tr>\n",
       "    <tr>\n",
       "      <td>4</td>\n",
       "      <td>0.280471</td>\n",
       "      <td>0.162329</td>\n",
       "      <td>0.975000</td>\n",
       "      <td>00:14</td>\n",
       "    </tr>\n",
       "    <tr>\n",
       "      <td>5</td>\n",
       "      <td>0.298834</td>\n",
       "      <td>0.161235</td>\n",
       "      <td>0.925000</td>\n",
       "      <td>00:14</td>\n",
       "    </tr>\n",
       "    <tr>\n",
       "      <td>6</td>\n",
       "      <td>0.251365</td>\n",
       "      <td>0.071700</td>\n",
       "      <td>0.975000</td>\n",
       "      <td>00:14</td>\n",
       "    </tr>\n",
       "    <tr>\n",
       "      <td>7</td>\n",
       "      <td>0.233007</td>\n",
       "      <td>0.083192</td>\n",
       "      <td>0.975000</td>\n",
       "      <td>00:14</td>\n",
       "    </tr>\n",
       "    <tr>\n",
       "      <td>8</td>\n",
       "      <td>0.187153</td>\n",
       "      <td>0.078073</td>\n",
       "      <td>0.975000</td>\n",
       "      <td>00:14</td>\n",
       "    </tr>\n",
       "    <tr>\n",
       "      <td>9</td>\n",
       "      <td>0.168980</td>\n",
       "      <td>0.079756</td>\n",
       "      <td>0.975000</td>\n",
       "      <td>00:14</td>\n",
       "    </tr>\n",
       "  </tbody>\n",
       "</table>"
      ],
      "text/plain": [
       "<IPython.core.display.HTML object>"
      ]
     },
     "metadata": {
      "tags": []
     },
     "output_type": "display_data"
    }
   ],
   "source": [
    "lr=1e-3\n",
    "learn.fit_one_cycle(10, slice(lr/10, lr))"
   ]
  },
  {
   "cell_type": "code",
   "execution_count": 14,
   "metadata": {
    "colab": {
     "base_uri": "https://localhost:8080/",
     "height": 279
    },
    "colab_type": "code",
    "id": "WDaQySBwWINc",
    "outputId": "4ad06a86-aa1a-415f-d8b4-f7c85f4dbd93"
   },
   "outputs": [
    {
     "data": {
      "image/png": "[encoded data removed]",
      "text/plain": [
       "<Figure size 432x288 with 1 Axes>"
      ]
     },
     "metadata": {
      "needs_background": "light",
      "tags": []
     },
     "output_type": "display_data"
    }
   ],
   "source": [
    "learn.recorder.plot_losses()"
   ]
  },
  {
   "cell_type": "code",
   "execution_count": 0,
   "metadata": {
    "colab": {},
    "colab_type": "code",
    "id": "qL6pE52sXUw8"
   },
   "outputs": [],
   "source": [
    "learn.export()  "
   ]
  },
  {
   "cell_type": "code",
   "execution_count": 16,
   "metadata": {
    "colab": {
     "base_uri": "https://localhost:8080/",
     "height": 34
    },
    "colab_type": "code",
    "id": "OTwfM1a0XrNp",
    "outputId": "6c9d808b-8ade-4321-ce00-c45ab0009d0d"
   },
   "outputs": [
    {
     "data": {
      "text/plain": [
       "PosixPath('/content/drive/My Drive/dataset/all/train')"
      ]
     },
     "execution_count": 16,
     "metadata": {
      "tags": []
     },
     "output_type": "execute_result"
    }
   ],
   "source": [
    "learn.path"
   ]
  },
  {
   "cell_type": "code",
   "execution_count": 0,
   "metadata": {
    "colab": {},
    "colab_type": "code",
    "id": "fHEg5v-IXvBs"
   },
   "outputs": [],
   "source": []
  },
  {
   "cell_type": "code",
   "execution_count": 0,
   "metadata": {
    "colab": {},
    "colab_type": "code",
    "id": "4EXu_tlkX0Pf"
   },
   "outputs": [],
   "source": [
    "classes=['covid','normal','pneumonia_bac']"
   ]
  },
  {
   "cell_type": "code",
   "execution_count": 18,
   "metadata": {
    "colab": {
     "base_uri": "https://localhost:8080/",
     "height": 34
    },
    "colab_type": "code",
    "id": "cWmLlW_5jWej",
    "outputId": "fb8c62cf-63d6-4044-d9c0-8bcff6622d4f"
   },
   "outputs": [
    {
     "data": {
      "text/plain": [
       "['covid', 'normal', 'pneumonia_bac']"
      ]
     },
     "execution_count": 18,
     "metadata": {
      "tags": []
     },
     "output_type": "execute_result"
    }
   ],
   "source": [
    "data.classes"
   ]
  },
  {
   "cell_type": "code",
   "execution_count": 0,
   "metadata": {
    "colab": {},
    "colab_type": "code",
    "id": "XQZxgLOOYaqL"
   },
   "outputs": [],
   "source": [
    "img=open_image(path/'test/covid/nejmoa2001191_f3-PA.jpeg')"
   ]
  },
  {
   "cell_type": "code",
   "execution_count": 0,
   "metadata": {
    "colab": {},
    "colab_type": "code",
    "id": "-uIbdpJCkMrw"
   },
   "outputs": [],
   "source": [
    "img1=open_image(path/'test/covid/nejmoa2001191_f4.jpeg')\n",
    "img2=open_image(path/'test/covid/nejmoa2001191_f5-PA.jpeg')\n",
    "img3=open_image(path/'test/covid/radiol.2020200490.fig3.jpeg')\n",
    "img4=open_image(path/'test/covid/ryct.2020200028.fig1a.jpeg')\n",
    "img5=open_image(path/'test/covid/ryct.2020200034.fig2.jpeg')\n",
    "img6=open_image(path/'test/covid/ryct.2020200034.fig5-day0.jpeg')\n",
    "img7=open_image(path/'test/covid/ryct.2020200034.fig5-day4.jpeg')\n",
    "img8=open_image(path/'test/covid/ryct.2020200034.fig5-day7.jpeg')\n",
    "img9=open_image(path/'test/normal/NORMAL2-IM-1423-0001.jpeg')\n",
    "img10=open_image(path/'test/normal/NORMAL2-IM-1385-0001.jpeg')\n",
    "img11=open_image(path/'test/normal/NORMAL2-IM-1396-0001.jpeg')\n",
    "img12=open_image(path/'test/normal/NORMAL2-IM-1400-0001.jpeg')\n",
    "img13=open_image(path/'test/normal/NORMAL2-IM-1401-0001.jpeg')\n",
    "img14=open_image(path/'test/normal/NORMAL2-IM-1406-0001.jpeg')\n",
    "img15=open_image(path/'test/normal/NORMAL2-IM-1412-0001.jpeg')\n",
    "img16=open_image(path/'test/normal/NORMAL2-IM-1419-0001.jpeg')\n",
    "img17=open_image(path/'test/normal/NORMAL2-IM-1422-0001.jpeg')\n",
    "img18=open_image(path/'test/pneumonia_bac/person1753_bacteria_4594.jpeg')\n",
    "img19=open_image(path/'test/pneumonia_bac/person1940_bacteria_4859.jpeg')\n",
    "img20=open_image(path/'test/pneumonia_bac/person1940_bacteria_4861.jpeg')\n",
    "img21=open_image(path/'test/pneumonia_bac/person1940_bacteria_4862.jpeg')\n",
    "img22=open_image(path/'test/pneumonia_bac/person1941_bacteria_4863.jpeg')\n",
    "img23=open_image(path/'test/pneumonia_bac/person1942_bacteria_4865.jpeg')\n",
    "img24=open_image(path/'test/pneumonia_bac/person1943_bacteria_4868.jpeg')\n",
    "img25=open_image(path/'test/pneumonia_bac/person1944_bacteria_4869.jpeg')\n",
    "img26=open_image(path/'test/pneumonia_bac/person1945_bacteria_4872.jpeg')\n"
   ]
  },
  {
   "cell_type": "code",
   "execution_count": 0,
   "metadata": {
    "colab": {},
    "colab_type": "code",
    "id": "2gsEMc0BkO_c"
   },
   "outputs": [],
   "source": [
    "testing=load_learner(path/'train')"
   ]
  },
  {
   "cell_type": "code",
   "execution_count": 0,
   "metadata": {
    "colab": {},
    "colab_type": "code",
    "id": "43EmU_PSzbzG"
   },
   "outputs": [],
   "source": [
    "images=[img,img1,img2,img3,img4,img5,img6,img7,img8,img9,img10,img11,img12,img13,img14,img15,img16,img17,img18,img19,img20,img21,img22,img23,img24,img25,img26]"
   ]
  },
  {
   "cell_type": "code",
   "execution_count": 0,
   "metadata": {
    "colab": {},
    "colab_type": "code",
    "id": "gr-p50zI1KrE"
   },
   "outputs": [],
   "source": [
    "original=['covid','covid','covid','covid','covid','covid','covid','covid','covid','normal','normal','normal','normal','normal','normal','normal','normal','normal','pneumonia_bac','pneumonia_bac','pneumonia_bac','pneumonia_bac','pneumonia_bac','pneumonia_bac','pneumonia_bac','pneumonia_bac','pneumonia_bac']"
   ]
  },
  {
   "cell_type": "code",
   "execution_count": 0,
   "metadata": {
    "colab": {},
    "colab_type": "code",
    "id": "xS8T5zfSohsL"
   },
   "outputs": [],
   "source": [
    "predictions=[]\n",
    "for i in images:\n",
    "  pred_class,pred_idx,outputs = testing.predict(i)\n",
    "  predictions.append(pred_idx)"
   ]
  },
  {
   "cell_type": "code",
   "execution_count": 25,
   "metadata": {
    "colab": {
     "base_uri": "https://localhost:8080/",
     "height": 485
    },
    "colab_type": "code",
    "id": "NU8-gF-UomOV",
    "outputId": "1485136f-1266-429a-caed-0152d6d851a7"
   },
   "outputs": [
    {
     "data": {
      "text/plain": [
       "[tensor(0),\n",
       " tensor(0),\n",
       " tensor(0),\n",
       " tensor(0),\n",
       " tensor(0),\n",
       " tensor(0),\n",
       " tensor(0),\n",
       " tensor(0),\n",
       " tensor(0),\n",
       " tensor(1),\n",
       " tensor(2),\n",
       " tensor(1),\n",
       " tensor(1),\n",
       " tensor(1),\n",
       " tensor(1),\n",
       " tensor(1),\n",
       " tensor(2),\n",
       " tensor(1),\n",
       " tensor(2),\n",
       " tensor(2),\n",
       " tensor(2),\n",
       " tensor(2),\n",
       " tensor(2),\n",
       " tensor(2),\n",
       " tensor(2),\n",
       " tensor(2),\n",
       " tensor(2)]"
      ]
     },
     "execution_count": 25,
     "metadata": {
      "tags": []
     },
     "output_type": "execute_result"
    }
   ],
   "source": [
    "predictions"
   ]
  },
  {
   "cell_type": "code",
   "execution_count": 0,
   "metadata": {
    "colab": {},
    "colab_type": "code",
    "id": "XpuBusgNpVeH"
   },
   "outputs": [],
   "source": [
    "predclass=[]\n",
    "for i in predictions:\n",
    "  predclass.append(data.classes[i])"
   ]
  },
  {
   "cell_type": "code",
   "execution_count": 27,
   "metadata": {
    "colab": {
     "base_uri": "https://localhost:8080/",
     "height": 485
    },
    "colab_type": "code",
    "id": "3pfrEzW2qqfY",
    "outputId": "f1f8a79c-991b-45ab-c2c1-5eeb74713990"
   },
   "outputs": [
    {
     "data": {
      "text/plain": [
       "['covid',\n",
       " 'covid',\n",
       " 'covid',\n",
       " 'covid',\n",
       " 'covid',\n",
       " 'covid',\n",
       " 'covid',\n",
       " 'covid',\n",
       " 'covid',\n",
       " 'normal',\n",
       " 'pneumonia_bac',\n",
       " 'normal',\n",
       " 'normal',\n",
       " 'normal',\n",
       " 'normal',\n",
       " 'normal',\n",
       " 'pneumonia_bac',\n",
       " 'normal',\n",
       " 'pneumonia_bac',\n",
       " 'pneumonia_bac',\n",
       " 'pneumonia_bac',\n",
       " 'pneumonia_bac',\n",
       " 'pneumonia_bac',\n",
       " 'pneumonia_bac',\n",
       " 'pneumonia_bac',\n",
       " 'pneumonia_bac',\n",
       " 'pneumonia_bac']"
      ]
     },
     "execution_count": 27,
     "metadata": {
      "tags": []
     },
     "output_type": "execute_result"
    }
   ],
   "source": [
    "predclass"
   ]
  },
  {
   "cell_type": "code",
   "execution_count": 0,
   "metadata": {
    "colab": {},
    "colab_type": "code",
    "id": "IlxastYCrjOe"
   },
   "outputs": [],
   "source": [
    "from sklearn.metrics import accuracy_score\n",
    "acc=round(((accuracy_score(original, predclass))*100),2)"
   ]
  },
  {
   "cell_type": "code",
   "execution_count": 30,
   "metadata": {
    "colab": {
     "base_uri": "https://localhost:8080/",
     "height": 34
    },
    "colab_type": "code",
    "id": "aiygDGiOtWXd",
    "outputId": "f6ff272c-b4bc-4fee-be53-38d23a5ae6ca"
   },
   "outputs": [
    {
     "name": "stdout",
     "output_type": "stream",
     "text": [
      "Test accuracy is : 92.59%\n"
     ]
    }
   ],
   "source": [
    "print(\"Test accuracy is : \"+str(acc)+\"%\" )"
   ]
  },
  {
   "cell_type": "code",
   "execution_count": 0,
   "metadata": {
    "colab": {},
    "colab_type": "code",
    "id": "ByQO3QlM5VAl"
   },
   "outputs": [],
   "source": []
  },
  {
   "cell_type": "code",
   "execution_count": 0,
   "metadata": {
    "colab": {},
    "colab_type": "code",
    "id": "ndrwvei47X1C"
   },
   "outputs": [],
   "source": []
  },
  {
   "cell_type": "code",
   "execution_count": 0,
   "metadata": {
    "colab": {},
    "colab_type": "code",
    "id": "LLcqd6qY7iSu"
   },
   "outputs": [],
   "source": []
  },
  {
   "cell_type": "code",
   "execution_count": 0,
   "metadata": {
    "colab": {},
    "colab_type": "code",
    "id": "NDb0Jntq9JQ8"
   },
   "outputs": [],
   "source": []
  }
 ],
 "metadata": {
  "accelerator": "GPU",
  "colab": {
   "name": "final_resnet50.ipynb",
   "provenance": []
  },
  "kernelspec": {
   "display_name": "Python 3",
   "language": "python",
   "name": "python3"
  },
  "language_info": {
   "codemirror_mode": {
    "name": "ipython",
    "version": 3
   },
   "file_extension": ".py",
   "mimetype": "text/x-python",
   "name": "python",
   "nbconvert_exporter": "python",
   "pygments_lexer": "ipython3",
   "version": "3.7.4"
  },
  "widgets": {
   "application/vnd.jupyter.widget-state+json": {
    "1e7e0d6dc9cd420c8e40d71918b98de1": {
     "model_module": "@jupyter-widgets/controls",
     "model_name": "DescriptionStyleModel",
     "state": {
      "_model_module": "@jupyter-widgets/controls",
      "_model_module_version": "1.5.0",
      "_model_name": "DescriptionStyleModel",
      "_view_count": null,
      "_view_module": "@jupyter-widgets/base",
      "_view_module_version": "1.2.0",
      "_view_name": "StyleView",
      "description_width": ""
     }
    },
    "273772a3f2ad4de7b3fec7b890b1888b": {
     "model_module": "@jupyter-widgets/controls",
     "model_name": "FloatProgressModel",
     "state": {
      "_dom_classes": [],
      "_model_module": "@jupyter-widgets/controls",
      "_model_module_version": "1.5.0",
      "_model_name": "FloatProgressModel",
      "_view_count": null,
      "_view_module": "@jupyter-widgets/controls",
      "_view_module_version": "1.5.0",
      "_view_name": "ProgressView",
      "bar_style": "success",
      "description": "100%",
      "description_tooltip": null,
      "layout": "IPY_MODEL_d58603bfcdf24e99bcff7a47279cb194",
      "max": 102502400,
      "min": 0,
      "orientation": "horizontal",
      "style": "IPY_MODEL_e80cc8b551d04d118b8b65b70d3ae6eb",
      "value": 102502400
     }
    },
    "4969bb63df2a4e209222840c66bd883e": {
     "model_module": "@jupyter-widgets/controls",
     "model_name": "HBoxModel",
     "state": {
      "_dom_classes": [],
      "_model_module": "@jupyter-widgets/controls",
      "_model_module_version": "1.5.0",
      "_model_name": "HBoxModel",
      "_view_count": null,
      "_view_module": "@jupyter-widgets/controls",
      "_view_module_version": "1.5.0",
      "_view_name": "HBoxView",
      "box_style": "",
      "children": [
       "IPY_MODEL_273772a3f2ad4de7b3fec7b890b1888b",
       "IPY_MODEL_b419d0a595e04bb6bd026f2ca81e3413"
      ],
      "layout": "IPY_MODEL_5c492aa8dafb446db41fa1234f79cf94"
     }
    },
    "5c492aa8dafb446db41fa1234f79cf94": {
     "model_module": "@jupyter-widgets/base",
     "model_name": "LayoutModel",
     "state": {
      "_model_module": "@jupyter-widgets/base",
      "_model_module_version": "1.2.0",
      "_model_name": "LayoutModel",
      "_view_count": null,
      "_view_module": "@jupyter-widgets/base",
      "_view_module_version": "1.2.0",
      "_view_name": "LayoutView",
      "align_content": null,
      "align_items": null,
      "align_self": null,
      "border": null,
      "bottom": null,
      "display": null,
      "flex": null,
      "flex_flow": null,
      "grid_area": null,
      "grid_auto_columns": null,
      "grid_auto_flow": null,
      "grid_auto_rows": null,
      "grid_column": null,
      "grid_gap": null,
      "grid_row": null,
      "grid_template_areas": null,
      "grid_template_columns": null,
      "grid_template_rows": null,
      "height": null,
      "justify_content": null,
      "justify_items": null,
      "left": null,
      "margin": null,
      "max_height": null,
      "max_width": null,
      "min_height": null,
      "min_width": null,
      "object_fit": null,
      "object_position": null,
      "order": null,
      "overflow": null,
      "overflow_x": null,
      "overflow_y": null,
      "padding": null,
      "right": null,
      "top": null,
      "visibility": null,
      "width": null
     }
    },
    "b419d0a595e04bb6bd026f2ca81e3413": {
     "model_module": "@jupyter-widgets/controls",
     "model_name": "HTMLModel",
     "state": {
      "_dom_classes": [],
      "_model_module": "@jupyter-widgets/controls",
      "_model_module_version": "1.5.0",
      "_model_name": "HTMLModel",
      "_view_count": null,
      "_view_module": "@jupyter-widgets/controls",
      "_view_module_version": "1.5.0",
      "_view_name": "HTMLView",
      "description": "",
      "description_tooltip": null,
      "layout": "IPY_MODEL_f0e9473d30ab49cfa188971c6de9f735",
      "placeholder": "​",
      "style": "IPY_MODEL_1e7e0d6dc9cd420c8e40d71918b98de1",
      "value": " 97.8M/97.8M [00:06&lt;00:00, 16.3MB/s]"
     }
    },
    "d58603bfcdf24e99bcff7a47279cb194": {
     "model_module": "@jupyter-widgets/base",
     "model_name": "LayoutModel",
     "state": {
      "_model_module": "@jupyter-widgets/base",
      "_model_module_version": "1.2.0",
      "_model_name": "LayoutModel",
      "_view_count": null,
      "_view_module": "@jupyter-widgets/base",
      "_view_module_version": "1.2.0",
      "_view_name": "LayoutView",
      "align_content": null,
      "align_items": null,
      "align_self": null,
      "border": null,
      "bottom": null,
      "display": null,
      "flex": null,
      "flex_flow": null,
      "grid_area": null,
      "grid_auto_columns": null,
      "grid_auto_flow": null,
      "grid_auto_rows": null,
      "grid_column": null,
      "grid_gap": null,
      "grid_row": null,
      "grid_template_areas": null,
      "grid_template_columns": null,
      "grid_template_rows": null,
      "height": null,
      "justify_content": null,
      "justify_items": null,
      "left": null,
      "margin": null,
      "max_height": null,
      "max_width": null,
      "min_height": null,
      "min_width": null,
      "object_fit": null,
      "object_position": null,
      "order": null,
      "overflow": null,
      "overflow_x": null,
      "overflow_y": null,
      "padding": null,
      "right": null,
      "top": null,
      "visibility": null,
      "width": null
     }
    },
    "e80cc8b551d04d118b8b65b70d3ae6eb": {
     "model_module": "@jupyter-widgets/controls",
     "model_name": "ProgressStyleModel",
     "state": {
      "_model_module": "@jupyter-widgets/controls",
      "_model_module_version": "1.5.0",
      "_model_name": "ProgressStyleModel",
      "_view_count": null,
      "_view_module": "@jupyter-widgets/base",
      "_view_module_version": "1.2.0",
      "_view_name": "StyleView",
      "bar_color": null,
      "description_width": "initial"
     }
    },
    "f0e9473d30ab49cfa188971c6de9f735": {
     "model_module": "@jupyter-widgets/base",
     "model_name": "LayoutModel",
     "state": {
      "_model_module": "@jupyter-widgets/base",
      "_model_module_version": "1.2.0",
      "_model_name": "LayoutModel",
      "_view_count": null,
      "_view_module": "@jupyter-widgets/base",
      "_view_module_version": "1.2.0",
      "_view_name": "LayoutView",
      "align_content": null,
      "align_items": null,
      "align_self": null,
      "border": null,
      "bottom": null,
      "display": null,
      "flex": null,
      "flex_flow": null,
      "grid_area": null,
      "grid_auto_columns": null,
      "grid_auto_flow": null,
      "grid_auto_rows": null,
      "grid_column": null,
      "grid_gap": null,
      "grid_row": null,
      "grid_template_areas": null,
      "grid_template_columns": null,
      "grid_template_rows": null,
      "height": null,
      "justify_content": null,
      "justify_items": null,
      "left": null,
      "margin": null,
      "max_height": null,
      "max_width": null,
      "min_height": null,
      "min_width": null,
      "object_fit": null,
      "object_position": null,
      "order": null,
      "overflow": null,
      "overflow_x": null,
      "overflow_y": null,
      "padding": null,
      "right": null,
      "top": null,
      "visibility": null,
      "width": null
     }
    }
   }
  }
 },
 "nbformat": 4,
 "nbformat_minor": 1
}
